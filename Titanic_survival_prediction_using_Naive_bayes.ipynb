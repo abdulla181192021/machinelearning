{
  "nbformat": 4,
  "nbformat_minor": 0,
  "metadata": {
    "colab": {
      "name": "Titanic survival prediction using Naive bayes.ipynb",
      "provenance": [],
      "collapsed_sections": [],
      "authorship_tag": "ABX9TyPVzcptfcUwT5q+Ukb60MTu",
      "include_colab_link": true
    },
    "kernelspec": {
      "name": "python3",
      "display_name": "Python 3"
    },
    "language_info": {
      "name": "python"
    }
  },
  "cells": [
    {
      "cell_type": "markdown",
      "metadata": {
        "id": "view-in-github",
        "colab_type": "text"
      },
      "source": [
        "<a href=\"https://colab.research.google.com/github/abdulla181192021/pythonmypractice/blob/main/Titanic_survival_prediction_using_Naive_bayes.ipynb\" target=\"_parent\"><img src=\"https://colab.research.google.com/assets/colab-badge.svg\" alt=\"Open In Colab\"/></a>"
      ]
    },
    {
      "cell_type": "code",
      "execution_count": null,
      "metadata": {
        "id": "L6bJKK2f2MfD"
      },
      "outputs": [],
      "source": [
        "import numpy as np\n",
        "import pandas as pd"
      ]
    },
    {
      "cell_type": "code",
      "source": [
        "#from google.colab import files\n",
        "#uploaded=files.upload()"
      ],
      "metadata": {
        "id": "jEJKUToR2UEB"
      },
      "execution_count": null,
      "outputs": []
    },
    {
      "cell_type": "markdown",
      "source": [
        "load dataset"
      ],
      "metadata": {
        "id": "zBaL6XFk2ow7"
      }
    },
    {
      "cell_type": "code",
      "source": [
        "dataset=pd.read_csv()"
      ],
      "metadata": {
        "id": "0lXN852A2u-3"
      },
      "execution_count": null,
      "outputs": []
    },
    {
      "cell_type": "markdown",
      "source": [
        "Summarise datset"
      ],
      "metadata": {
        "id": "-55ZREfM20wJ"
      }
    },
    {
      "cell_type": "code",
      "source": [
        "print(dataset.shape)\n",
        "print(dataset.head(5))"
      ],
      "metadata": {
        "id": "BR-cKkNf23nm"
      },
      "execution_count": null,
      "outputs": []
    },
    {
      "cell_type": "markdown",
      "source": [
        "Mapping text data to Binary value"
      ],
      "metadata": {
        "id": "BVftid5T2-3v"
      }
    },
    {
      "cell_type": "code",
      "source": [
        "income_set=set(dataset['sex'])\n",
        "dataset['sex']=dataset['sex'].map({'female':0,'male':1}).astype(int)\n",
        "print(dataset.head)"
      ],
      "metadata": {
        "id": "US6SbiA93DP_"
      },
      "execution_count": null,
      "outputs": []
    },
    {
      "cell_type": "markdown",
      "source": [
        "Segarate dataset into X and y(output)"
      ],
      "metadata": {
        "id": "16EefqV840uZ"
      }
    },
    {
      "cell_type": "code",
      "source": [
        "x=dataset.drop('survived',axis='columns')"
      ],
      "metadata": {
        "id": "Z5LnRxMb5Bu0"
      },
      "execution_count": null,
      "outputs": []
    },
    {
      "cell_type": "code",
      "source": [
        "y=dataset.survived\n",
        "print(y)"
      ],
      "metadata": {
        "id": "JDbVkyh75XZ_"
      },
      "execution_count": null,
      "outputs": []
    },
    {
      "cell_type": "markdown",
      "source": [
        "Finding and Removing NA values from our features x"
      ],
      "metadata": {
        "id": "CfON7C086vRV"
      }
    },
    {
      "cell_type": "code",
      "source": [
        "x.columns[x.isna().any()]#find out the column where any value is missing"
      ],
      "metadata": {
        "id": "uwwpxAaV62ng"
      },
      "execution_count": null,
      "outputs": []
    },
    {
      "cell_type": "code",
      "source": [
        "x.age=x.age.fillna(x.age.mean())"
      ],
      "metadata": {
        "id": "ODBgSZoW8MtW"
      },
      "execution_count": null,
      "outputs": []
    },
    {
      "cell_type": "markdown",
      "source": [
        "splitting dataset into train and test"
      ],
      "metadata": {
        "id": "9Zk4CmYM8bh7"
      }
    },
    {
      "cell_type": "code",
      "source": [
        "from sklearn.model_selection import train_test_split"
      ],
      "metadata": {
        "id": "AWDwpswd88UP"
      },
      "execution_count": null,
      "outputs": []
    }
  ]
}